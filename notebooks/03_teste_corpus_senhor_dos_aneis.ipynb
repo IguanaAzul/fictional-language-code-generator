{
 "cells": [
  {
   "cell_type": "code",
   "execution_count": 1,
   "metadata": {
    "ExecuteTime": {
     "end_time": "2023-08-02T15:33:52.562456Z",
     "start_time": "2023-08-02T15:33:51.461952Z"
    }
   },
   "outputs": [],
   "source": [
    "import pandas as pd\n",
    "import pickle\n",
    "from datasets import load_dataset"
   ]
  },
  {
   "cell_type": "code",
   "execution_count": 2,
   "metadata": {
    "ExecuteTime": {
     "end_time": "2023-08-02T15:33:52.573426Z",
     "start_time": "2023-08-02T15:33:52.568438Z"
    }
   },
   "outputs": [],
   "source": [
    "from pathlib import Path\n",
    "import os\n",
    "os.chdir(Path.cwd().parent)"
   ]
  },
  {
   "cell_type": "code",
   "execution_count": 3,
   "metadata": {
    "ExecuteTime": {
     "end_time": "2023-08-02T15:33:55.077042Z",
     "start_time": "2023-08-02T15:33:52.576418Z"
    },
    "scrolled": true
   },
   "outputs": [],
   "source": [
    "from linguagem import tratar_classes_gramaticais, term_frequency_from_corpus_senhor_aneis, aplicar_spacy"
   ]
  },
  {
   "cell_type": "code",
   "execution_count": 4,
   "metadata": {
    "ExecuteTime": {
     "end_time": "2023-08-02T15:34:35.024495Z",
     "start_time": "2023-08-02T15:33:55.083018Z"
    },
    "collapsed": false,
    "jupyter": {
     "outputs_hidden": false
    }
   },
   "outputs": [],
   "source": [
    "with open('./corpus/senhor_dos_aneis.txt', encoding=\"utf8\") as f:\n",
    "    corpus_senhor_dos_aneis = \"\".join(f.readlines())"
   ]
  },
  {
   "cell_type": "code",
   "execution_count": 5,
   "metadata": {
    "ExecuteTime": {
     "end_time": "2023-08-02T15:34:35.651390Z",
     "start_time": "2023-08-02T15:34:35.028485Z"
    },
    "collapsed": false,
    "jupyter": {
     "outputs_hidden": false
    }
   },
   "outputs": [
    {
     "name": "stdout",
     "output_type": "stream",
     "text": [
      "22802\n"
     ]
    }
   ],
   "source": [
    "if \"term_frequency_senhor_dos_aneis.pkl\" not in os.listdir(\"./checkpoints/\"):\n",
    "    term_frequency = term_frequency_from_corpus_senhor_aneis(corpus_senhor_dos_aneis)\n",
    "    with open(\"./checkpoints/term_frequency_senhor_dos_aneis.pkl\", \"wb\") as file:\n",
    "        pickle.dump(term_frequency, file)\n",
    "else:\n",
    "    with open(\"./checkpoints/term_frequency_senhor_dos_aneis.pkl\", \"rb\") as file:\n",
    "        term_frequency = pickle.load(file)\n",
    "print(len(term_frequency))"
   ]
  },
  {
   "cell_type": "code",
   "execution_count": 6,
   "metadata": {
    "ExecuteTime": {
     "end_time": "2023-08-02T15:34:37.561373Z",
     "start_time": "2023-08-02T15:34:35.653343Z"
    }
   },
   "outputs": [
    {
     "name": "stdout",
     "output_type": "stream",
     "text": [
      "(22802, 4)\n"
     ]
    },
    {
     "data": {
      "text/html": [
       "<div>\n",
       "<style scoped>\n",
       "    .dataframe tbody tr th:only-of-type {\n",
       "        vertical-align: middle;\n",
       "    }\n",
       "\n",
       "    .dataframe tbody tr th {\n",
       "        vertical-align: top;\n",
       "    }\n",
       "\n",
       "    .dataframe thead th {\n",
       "        text-align: right;\n",
       "    }\n",
       "</style>\n",
       "<table border=\"1\" class=\"dataframe\">\n",
       "  <thead>\n",
       "    <tr style=\"text-align: right;\">\n",
       "      <th></th>\n",
       "      <th>palavra</th>\n",
       "      <th>frequencia</th>\n",
       "      <th>lemma</th>\n",
       "      <th>classe_gramatical</th>\n",
       "    </tr>\n",
       "  </thead>\n",
       "  <tbody>\n",
       "    <tr>\n",
       "      <th>0</th>\n",
       "      <td>e</td>\n",
       "      <td>20069</td>\n",
       "      <td>e</td>\n",
       "      <td>CCONJ</td>\n",
       "    </tr>\n",
       "    <tr>\n",
       "      <th>1</th>\n",
       "      <td>de</td>\n",
       "      <td>17339</td>\n",
       "      <td>de</td>\n",
       "      <td>ADP</td>\n",
       "    </tr>\n",
       "    <tr>\n",
       "      <th>2</th>\n",
       "      <td>que</td>\n",
       "      <td>13485</td>\n",
       "      <td>que</td>\n",
       "      <td>SCONJ</td>\n",
       "    </tr>\n",
       "    <tr>\n",
       "      <th>3</th>\n",
       "      <td>o</td>\n",
       "      <td>13334</td>\n",
       "      <td>o</td>\n",
       "      <td>DET</td>\n",
       "    </tr>\n",
       "    <tr>\n",
       "      <th>4</th>\n",
       "      <td>a</td>\n",
       "      <td>12762</td>\n",
       "      <td>a</td>\n",
       "      <td>ADP</td>\n",
       "    </tr>\n",
       "    <tr>\n",
       "      <th>5</th>\n",
       "      <td>se</td>\n",
       "      <td>8288</td>\n",
       "      <td>se</td>\n",
       "      <td>SCONJ</td>\n",
       "    </tr>\n",
       "    <tr>\n",
       "      <th>6</th>\n",
       "      <td>não</td>\n",
       "      <td>7558</td>\n",
       "      <td>não</td>\n",
       "      <td>ADV</td>\n",
       "    </tr>\n",
       "    <tr>\n",
       "      <th>7</th>\n",
       "      <td>um</td>\n",
       "      <td>6281</td>\n",
       "      <td>um</td>\n",
       "      <td>NUM</td>\n",
       "    </tr>\n",
       "    <tr>\n",
       "      <th>8</th>\n",
       "      <td>os</td>\n",
       "      <td>6015</td>\n",
       "      <td>o</td>\n",
       "      <td>DET</td>\n",
       "    </tr>\n",
       "    <tr>\n",
       "      <th>9</th>\n",
       "      <td>para</td>\n",
       "      <td>5792</td>\n",
       "      <td>para</td>\n",
       "      <td>ADP</td>\n",
       "    </tr>\n",
       "    <tr>\n",
       "      <th>10</th>\n",
       "      <td>do</td>\n",
       "      <td>5683</td>\n",
       "      <td>de o</td>\n",
       "      <td>ADP</td>\n",
       "    </tr>\n",
       "    <tr>\n",
       "      <th>11</th>\n",
       "      <td>em</td>\n",
       "      <td>5351</td>\n",
       "      <td>em</td>\n",
       "      <td>ADP</td>\n",
       "    </tr>\n",
       "    <tr>\n",
       "      <th>12</th>\n",
       "      <td>mas</td>\n",
       "      <td>4894</td>\n",
       "      <td>mas</td>\n",
       "      <td>CCONJ</td>\n",
       "    </tr>\n",
       "    <tr>\n",
       "      <th>13</th>\n",
       "      <td>uma</td>\n",
       "      <td>4530</td>\n",
       "      <td>um</td>\n",
       "      <td>NUM</td>\n",
       "    </tr>\n",
       "    <tr>\n",
       "      <th>14</th>\n",
       "      <td>da</td>\n",
       "      <td>4028</td>\n",
       "      <td>de o</td>\n",
       "      <td>ADP</td>\n",
       "    </tr>\n",
       "    <tr>\n",
       "      <th>15</th>\n",
       "      <td>disse</td>\n",
       "      <td>3981</td>\n",
       "      <td>dizer</td>\n",
       "      <td>VERB</td>\n",
       "    </tr>\n",
       "    <tr>\n",
       "      <th>16</th>\n",
       "      <td>com</td>\n",
       "      <td>3943</td>\n",
       "      <td>com</td>\n",
       "      <td>ADP</td>\n",
       "    </tr>\n",
       "    <tr>\n",
       "      <th>17</th>\n",
       "      <td>ele</td>\n",
       "      <td>3930</td>\n",
       "      <td>ele</td>\n",
       "      <td>PRON</td>\n",
       "    </tr>\n",
       "    <tr>\n",
       "      <th>18</th>\n",
       "      <td>por</td>\n",
       "      <td>3354</td>\n",
       "      <td>por</td>\n",
       "      <td>ADP</td>\n",
       "    </tr>\n",
       "    <tr>\n",
       "      <th>19</th>\n",
       "      <td>as</td>\n",
       "      <td>3220</td>\n",
       "      <td>o</td>\n",
       "      <td>DET</td>\n",
       "    </tr>\n",
       "    <tr>\n",
       "      <th>20</th>\n",
       "      <td>mais</td>\n",
       "      <td>3156</td>\n",
       "      <td>mais</td>\n",
       "      <td>ADV</td>\n",
       "    </tr>\n",
       "    <tr>\n",
       "      <th>21</th>\n",
       "      <td>na</td>\n",
       "      <td>2818</td>\n",
       "      <td>em o</td>\n",
       "      <td>ADP</td>\n",
       "    </tr>\n",
       "    <tr>\n",
       "      <th>22</th>\n",
       "      <td>no</td>\n",
       "      <td>2768</td>\n",
       "      <td>em o</td>\n",
       "      <td>ADP</td>\n",
       "    </tr>\n",
       "    <tr>\n",
       "      <th>23</th>\n",
       "      <td>como</td>\n",
       "      <td>2609</td>\n",
       "      <td>como</td>\n",
       "      <td>ADP</td>\n",
       "    </tr>\n",
       "    <tr>\n",
       "      <th>24</th>\n",
       "      <td>é</td>\n",
       "      <td>2583</td>\n",
       "      <td>ser</td>\n",
       "      <td>AUX</td>\n",
       "    </tr>\n",
       "    <tr>\n",
       "      <th>25</th>\n",
       "      <td>dos</td>\n",
       "      <td>2439</td>\n",
       "      <td>de o</td>\n",
       "      <td>ADP</td>\n",
       "    </tr>\n",
       "    <tr>\n",
       "      <th>26</th>\n",
       "      <td>ao</td>\n",
       "      <td>2252</td>\n",
       "      <td>a o</td>\n",
       "      <td>ADP</td>\n",
       "    </tr>\n",
       "    <tr>\n",
       "      <th>27</th>\n",
       "      <td>frodo</td>\n",
       "      <td>2091</td>\n",
       "      <td>frodo</td>\n",
       "      <td>NOUN</td>\n",
       "    </tr>\n",
       "    <tr>\n",
       "      <th>28</th>\n",
       "      <td>seu</td>\n",
       "      <td>1964</td>\n",
       "      <td>seu</td>\n",
       "      <td>DET</td>\n",
       "    </tr>\n",
       "    <tr>\n",
       "      <th>29</th>\n",
       "      <td>sua</td>\n",
       "      <td>1953</td>\n",
       "      <td>seu</td>\n",
       "      <td>DET</td>\n",
       "    </tr>\n",
       "    <tr>\n",
       "      <th>30</th>\n",
       "      <td>ou</td>\n",
       "      <td>1909</td>\n",
       "      <td>ou</td>\n",
       "      <td>CCONJ</td>\n",
       "    </tr>\n",
       "    <tr>\n",
       "      <th>31</th>\n",
       "      <td>você</td>\n",
       "      <td>1806</td>\n",
       "      <td>você</td>\n",
       "      <td>PRON</td>\n",
       "    </tr>\n",
       "    <tr>\n",
       "      <th>32</th>\n",
       "      <td>agora</td>\n",
       "      <td>1784</td>\n",
       "      <td>agora</td>\n",
       "      <td>ADV</td>\n",
       "    </tr>\n",
       "    <tr>\n",
       "      <th>33</th>\n",
       "      <td>eu</td>\n",
       "      <td>1679</td>\n",
       "      <td>eu</td>\n",
       "      <td>PRON</td>\n",
       "    </tr>\n",
       "    <tr>\n",
       "      <th>34</th>\n",
       "      <td>estava</td>\n",
       "      <td>1651</td>\n",
       "      <td>estar</td>\n",
       "      <td>AUX</td>\n",
       "    </tr>\n",
       "    <tr>\n",
       "      <th>35</th>\n",
       "      <td>foi</td>\n",
       "      <td>1622</td>\n",
       "      <td>ser</td>\n",
       "      <td>AUX</td>\n",
       "    </tr>\n",
       "    <tr>\n",
       "      <th>36</th>\n",
       "      <td>era</td>\n",
       "      <td>1611</td>\n",
       "      <td>ser</td>\n",
       "      <td>AUX</td>\n",
       "    </tr>\n",
       "    <tr>\n",
       "      <th>37</th>\n",
       "      <td>sobre</td>\n",
       "      <td>1586</td>\n",
       "      <td>sobre</td>\n",
       "      <td>ADP</td>\n",
       "    </tr>\n",
       "    <tr>\n",
       "      <th>38</th>\n",
       "      <td>muito</td>\n",
       "      <td>1555</td>\n",
       "      <td>muito</td>\n",
       "      <td>ADV</td>\n",
       "    </tr>\n",
       "    <tr>\n",
       "      <th>39</th>\n",
       "      <td>das</td>\n",
       "      <td>1523</td>\n",
       "      <td>de o</td>\n",
       "      <td>ADP</td>\n",
       "    </tr>\n",
       "    <tr>\n",
       "      <th>40</th>\n",
       "      <td>até</td>\n",
       "      <td>1454</td>\n",
       "      <td>até</td>\n",
       "      <td>ADP</td>\n",
       "    </tr>\n",
       "    <tr>\n",
       "      <th>41</th>\n",
       "      <td>então</td>\n",
       "      <td>1400</td>\n",
       "      <td>então</td>\n",
       "      <td>ADV</td>\n",
       "    </tr>\n",
       "    <tr>\n",
       "      <th>42</th>\n",
       "      <td>quando</td>\n",
       "      <td>1384</td>\n",
       "      <td>quando</td>\n",
       "      <td>ADV</td>\n",
       "    </tr>\n",
       "    <tr>\n",
       "      <th>43</th>\n",
       "      <td>sam</td>\n",
       "      <td>1340</td>\n",
       "      <td>sam</td>\n",
       "      <td>NOUN</td>\n",
       "    </tr>\n",
       "    <tr>\n",
       "      <th>44</th>\n",
       "      <td>eles</td>\n",
       "      <td>1254</td>\n",
       "      <td>ele</td>\n",
       "      <td>PRON</td>\n",
       "    </tr>\n",
       "    <tr>\n",
       "      <th>45</th>\n",
       "      <td>está</td>\n",
       "      <td>1231</td>\n",
       "      <td>estar</td>\n",
       "      <td>AUX</td>\n",
       "    </tr>\n",
       "    <tr>\n",
       "      <th>46</th>\n",
       "      <td>gandalf</td>\n",
       "      <td>1186</td>\n",
       "      <td>gandalf</td>\n",
       "      <td>NOUN</td>\n",
       "    </tr>\n",
       "    <tr>\n",
       "      <th>47</th>\n",
       "      <td>à</td>\n",
       "      <td>1183</td>\n",
       "      <td>a o</td>\n",
       "      <td>ADP</td>\n",
       "    </tr>\n",
       "    <tr>\n",
       "      <th>48</th>\n",
       "      <td>ainda</td>\n",
       "      <td>1178</td>\n",
       "      <td>ainda</td>\n",
       "      <td>ADV</td>\n",
       "    </tr>\n",
       "    <tr>\n",
       "      <th>49</th>\n",
       "      <td>nos</td>\n",
       "      <td>1172</td>\n",
       "      <td>em o</td>\n",
       "      <td>ADP</td>\n",
       "    </tr>\n",
       "  </tbody>\n",
       "</table>\n",
       "</div>"
      ],
      "text/plain": [
       "    palavra  frequencia    lemma classe_gramatical\n",
       "0         e       20069        e             CCONJ\n",
       "1        de       17339       de               ADP\n",
       "2       que       13485      que             SCONJ\n",
       "3         o       13334        o               DET\n",
       "4         a       12762        a               ADP\n",
       "5        se        8288       se             SCONJ\n",
       "6       não        7558      não               ADV\n",
       "7        um        6281       um               NUM\n",
       "8        os        6015        o               DET\n",
       "9      para        5792     para               ADP\n",
       "10       do        5683     de o               ADP\n",
       "11       em        5351       em               ADP\n",
       "12      mas        4894      mas             CCONJ\n",
       "13      uma        4530       um               NUM\n",
       "14       da        4028     de o               ADP\n",
       "15    disse        3981    dizer              VERB\n",
       "16      com        3943      com               ADP\n",
       "17      ele        3930      ele              PRON\n",
       "18      por        3354      por               ADP\n",
       "19       as        3220        o               DET\n",
       "20     mais        3156     mais               ADV\n",
       "21       na        2818     em o               ADP\n",
       "22       no        2768     em o               ADP\n",
       "23     como        2609     como               ADP\n",
       "24        é        2583      ser               AUX\n",
       "25      dos        2439     de o               ADP\n",
       "26       ao        2252      a o               ADP\n",
       "27    frodo        2091    frodo              NOUN\n",
       "28      seu        1964      seu               DET\n",
       "29      sua        1953      seu               DET\n",
       "30       ou        1909       ou             CCONJ\n",
       "31     você        1806     você              PRON\n",
       "32    agora        1784    agora               ADV\n",
       "33       eu        1679       eu              PRON\n",
       "34   estava        1651    estar               AUX\n",
       "35      foi        1622      ser               AUX\n",
       "36      era        1611      ser               AUX\n",
       "37    sobre        1586    sobre               ADP\n",
       "38    muito        1555    muito               ADV\n",
       "39      das        1523     de o               ADP\n",
       "40      até        1454      até               ADP\n",
       "41    então        1400    então               ADV\n",
       "42   quando        1384   quando               ADV\n",
       "43      sam        1340      sam              NOUN\n",
       "44     eles        1254      ele              PRON\n",
       "45     está        1231    estar               AUX\n",
       "46  gandalf        1186  gandalf              NOUN\n",
       "47        à        1183      a o               ADP\n",
       "48    ainda        1178    ainda               ADV\n",
       "49      nos        1172     em o               ADP"
      ]
     },
     "execution_count": 6,
     "metadata": {},
     "output_type": "execute_result"
    }
   ],
   "source": [
    "if \"df_palavras_senhor_dos_aneis.parquet\" not in os.listdir(\"./checkpoints/\"):\n",
    "    df_palavras = aplicar_spacy(term_frequency)\n",
    "    df_palavras.to_parquet(\"./checkpoints/df_palavras_senhor_dos_aneis.parquet\")\n",
    "else:\n",
    "    df_palavras = pd.read_parquet(\"./checkpoints/df_palavras_senhor_dos_aneis.parquet\")\n",
    "print(df_palavras.shape)\n",
    "df_palavras.head(50)"
   ]
  },
  {
   "cell_type": "code",
   "execution_count": 9,
   "metadata": {
    "ExecuteTime": {
     "end_time": "2023-08-02T16:36:56.291348Z",
     "start_time": "2023-08-02T15:34:37.559378Z"
    }
   },
   "outputs": [
    {
     "data": {
      "application/vnd.jupyter.widget-view+json": {
       "model_id": "7284175b30b948248b29de696703317a",
       "version_major": 2,
       "version_minor": 0
      },
      "text/plain": [
       "morph:   0%|          | 0/22328 [00:00<?, ?it/s]"
      ]
     },
     "metadata": {},
     "output_type": "display_data"
    },
    {
     "name": "stderr",
     "output_type": "stream",
     "text": [
      "100%|██████████████████████████████████████████████████████████████████████████████████████████████████████████████████████████████████████████████████████████████████████████████████████████| 6514/6514 [00:00<00:00, 502477.22it/s]\n"
     ]
    },
    {
     "data": {
      "application/vnd.jupyter.widget-view+json": {
       "model_id": "02917a62b76e41cda0e39d93de566bdb",
       "version_major": 2,
       "version_minor": 0
      },
      "text/plain": [
       "morphs:   0%|          | 0/6514 [00:00<?, ?it/s]"
      ]
     },
     "metadata": {},
     "output_type": "display_data"
    },
    {
     "name": "stderr",
     "output_type": "stream",
     "text": [
      "100%|████████████████████████████████████████████████████████████████████████████████████████████████████████████████████████████████████████████████████████████████████████████████████████| 11968/11968 [00:00<00:00, 413798.07it/s]\n"
     ]
    },
    {
     "data": {
      "application/vnd.jupyter.widget-view+json": {
       "model_id": "f58ba2d0e49b4f7bb1e59541a95bf73f",
       "version_major": 2,
       "version_minor": 0
      },
      "text/plain": [
       "morphs:   0%|          | 0/11968 [00:00<?, ?it/s]"
      ]
     },
     "metadata": {},
     "output_type": "display_data"
    },
    {
     "name": "stderr",
     "output_type": "stream",
     "text": [
      "100%|██████████████████████████████████████████████████████████████████████████████████████████████████████████████████████████████████████████████████████████████████████████████████████████| 2963/2963 [00:00<00:00, 492752.97it/s]\n"
     ]
    },
    {
     "data": {
      "application/vnd.jupyter.widget-view+json": {
       "model_id": "e681f5e1bd534e409dab29458a94947b",
       "version_major": 2,
       "version_minor": 0
      },
      "text/plain": [
       "morphs:   0%|          | 0/2963 [00:00<?, ?it/s]"
      ]
     },
     "metadata": {},
     "output_type": "display_data"
    },
    {
     "name": "stderr",
     "output_type": "stream",
     "text": [
      "100%|████████████████████████████████████████████████████████████████████████████████████████████████████████████████████████████████████████████████████████████████████████████████████████████| 598/598 [00:00<00:00, 621147.55it/s]\n"
     ]
    },
    {
     "data": {
      "application/vnd.jupyter.widget-view+json": {
       "model_id": "53ecab3c68b24d178b794d587740b501",
       "version_major": 2,
       "version_minor": 0
      },
      "text/plain": [
       "morphs:   0%|          | 0/598 [00:00<?, ?it/s]"
      ]
     },
     "metadata": {},
     "output_type": "display_data"
    },
    {
     "name": "stderr",
     "output_type": "stream",
     "text": [
      "100%|████████████████████████████████████████████████████████████████████████████████████████████████████████████████████████████████████████████████████████████████████████████████████████████████████████| 105/105 [00:00<?, ?it/s]\n"
     ]
    },
    {
     "data": {
      "application/vnd.jupyter.widget-view+json": {
       "model_id": "79c134eba6ef4b2e9673282275ac9a54",
       "version_major": 2,
       "version_minor": 0
      },
      "text/plain": [
       "morphs:   0%|          | 0/105 [00:00<?, ?it/s]"
      ]
     },
     "metadata": {},
     "output_type": "display_data"
    },
    {
     "name": "stderr",
     "output_type": "stream",
     "text": [
      "100%|██████████████████████████████████████████████████████████████████████████████████████████████████████████████████████████████████████████████████████████████████████████████████████████████████████████| 78/78 [00:00<?, ?it/s]\n"
     ]
    },
    {
     "data": {
      "application/vnd.jupyter.widget-view+json": {
       "model_id": "23144e20c6a54beda5701cabf8aeca2d",
       "version_major": 2,
       "version_minor": 0
      },
      "text/plain": [
       "morphs:   0%|          | 0/78 [00:00<?, ?it/s]"
      ]
     },
     "metadata": {},
     "output_type": "display_data"
    },
    {
     "name": "stderr",
     "output_type": "stream",
     "text": [
      "100%|███████████████████████████████████████████████████████████████████████████████████████████████████████████████████████████████████████████████████████████████████████████████████████████████| 80/80 [00:00<00:00, 80005.80it/s]\n"
     ]
    },
    {
     "data": {
      "application/vnd.jupyter.widget-view+json": {
       "model_id": "aa8a3d665eeb42af8fce46a2374de813",
       "version_major": 2,
       "version_minor": 0
      },
      "text/plain": [
       "morphs:   0%|          | 0/80 [00:00<?, ?it/s]"
      ]
     },
     "metadata": {},
     "output_type": "display_data"
    },
    {
     "name": "stderr",
     "output_type": "stream",
     "text": [
      "100%|███████████████████████████████████████████████████████████████████████████████████████████████████████████████████████████████████████████████████████████████████████████████████████████████| 22/22 [00:00<00:00, 22283.19it/s]\n"
     ]
    },
    {
     "data": {
      "application/vnd.jupyter.widget-view+json": {
       "model_id": "02071365f2d944b58accdc62ceb226f7",
       "version_major": 2,
       "version_minor": 0
      },
      "text/plain": [
       "morphs:   0%|          | 0/22 [00:00<?, ?it/s]"
      ]
     },
     "metadata": {},
     "output_type": "display_data"
    }
   ],
   "source": [
    "df_substantivos, df_verbos, df_adjetivos, df_adverbios, df_preposicoes, df_pronomes, df_artigos, df_conjuncoes = tratar_classes_gramaticais(df_palavras)"
   ]
  },
  {
   "cell_type": "code",
   "execution_count": 10,
   "metadata": {
    "ExecuteTime": {
     "end_time": "2023-08-02T16:36:56.792698Z",
     "start_time": "2023-08-02T16:36:56.295336Z"
    },
    "collapsed": false,
    "jupyter": {
     "outputs_hidden": false
    }
   },
   "outputs": [],
   "source": [
    "df_substantivos.to_parquet(\"./checkpoints/df_substantivos_senhor_dos_aneis.parquet\")\n",
    "df_verbos.to_parquet(\"./checkpoints/df_verbos_senhor_dos_aneis.parquet\")\n",
    "df_adjetivos.to_parquet(\"./checkpoints/df_adjetivos_senhor_dos_aneis.parquet\")\n",
    "df_adverbios.to_parquet(\"./checkpoints/df_adverbios_senhor_dos_aneis.parquet\")\n",
    "df_preposicoes.to_parquet(\"./checkpoints/df_preposicoes_senhor_dos_aneis.parquet\")\n",
    "df_pronomes.to_parquet(\"./checkpoints/df_pronomes_senhor_dos_aneis.parquet\")\n",
    "df_artigos.to_parquet(\"./checkpoints/df_artigos_senhor_dos_aneis.parquet\")\n",
    "df_conjuncoes.to_parquet(\"./checkpoints/df_conjuncoes_senhor_dos_aneis.parquet\")"
   ]
  }
 ],
 "metadata": {
  "kernelspec": {
   "display_name": "Python 3 (ipykernel)",
   "language": "python",
   "name": "python3"
  },
  "language_info": {
   "codemirror_mode": {
    "name": "ipython",
    "version": 3
   },
   "file_extension": ".py",
   "mimetype": "text/x-python",
   "name": "python",
   "nbconvert_exporter": "python",
   "pygments_lexer": "ipython3",
   "version": "3.10.12"
  }
 },
 "nbformat": 4,
 "nbformat_minor": 4
}
