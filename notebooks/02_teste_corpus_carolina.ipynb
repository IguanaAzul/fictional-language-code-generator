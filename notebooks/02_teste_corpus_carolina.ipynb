{
 "cells": [
  {
   "cell_type": "code",
   "execution_count": 1,
   "metadata": {
    "ExecuteTime": {
     "start_time": "2023-08-02T15:33:51.461952Z",
     "end_time": "2023-08-02T15:33:52.562456Z"
    }
   },
   "outputs": [],
   "source": [
    "import pandas as pd\n",
    "import pickle\n",
    "from datasets import load_dataset"
   ]
  },
  {
   "cell_type": "code",
   "execution_count": 2,
   "metadata": {
    "ExecuteTime": {
     "start_time": "2023-08-02T15:33:52.568438Z",
     "end_time": "2023-08-02T15:33:52.573426Z"
    }
   },
   "outputs": [],
   "source": [
    "from pathlib import Path\n",
    "import os\n",
    "os.chdir(Path.cwd().parent)"
   ]
  },
  {
   "cell_type": "code",
   "execution_count": 3,
   "metadata": {
    "scrolled": true,
    "ExecuteTime": {
     "start_time": "2023-08-02T15:33:52.576418Z",
     "end_time": "2023-08-02T15:33:55.077042Z"
    }
   },
   "outputs": [],
   "source": [
    "from linguagem import tratar_classes_gramaticais, term_frequency_from_corpus, aplicar_spacy"
   ]
  },
  {
   "cell_type": "code",
   "execution_count": 4,
   "metadata": {
    "ExecuteTime": {
     "start_time": "2023-08-02T15:33:55.083018Z",
     "end_time": "2023-08-02T15:34:35.024495Z"
    },
    "collapsed": false,
    "jupyter": {
     "outputs_hidden": false
    }
   },
   "outputs": [],
   "source": [
    "corpus_carolina = [\n",
    "    load_dataset(\"carolina-c4ai/corpus-carolina\", taxonomy=\"dat\"),\n",
    "    load_dataset(\"carolina-c4ai/corpus-carolina\", taxonomy=\"pub\"),\n",
    "    load_dataset(\"carolina-c4ai/corpus-carolina\", taxonomy=\"wik\"),\n",
    "    load_dataset(\"carolina-c4ai/corpus-carolina\", taxonomy=\"soc\"),\n",
    "    load_dataset(\"carolina-c4ai/corpus-carolina\", taxonomy=\"uni\")\n",
    "]"
   ]
  },
  {
   "cell_type": "code",
   "execution_count": 5,
   "metadata": {
    "ExecuteTime": {
     "start_time": "2023-08-02T15:34:35.028485Z",
     "end_time": "2023-08-02T15:34:35.651390Z"
    },
    "collapsed": false,
    "jupyter": {
     "outputs_hidden": false
    }
   },
   "outputs": [
    {
     "name": "stdout",
     "output_type": "stream",
     "text": [
      "2883240\n"
     ]
    }
   ],
   "source": [
    "if \"term_frequency_carolina.pkl\" not in os.listdir(\"./checkpoints/\"):\n",
    "    term_frequency = term_frequency_from_corpus(corpus_carolina)\n",
    "    with open(\"./checkpoints/term_frequency_carolina.pkl\", \"wb\") as file:\n",
    "        pickle.dump(term_frequency, file)\n",
    "else:\n",
    "    with open(\"./checkpoints/term_frequency_carolina.pkl\", \"rb\") as file:\n",
    "        term_frequency = pickle.load(file)\n",
    "print(len(term_frequency))"
   ]
  },
  {
   "cell_type": "code",
   "execution_count": 6,
   "metadata": {
    "ExecuteTime": {
     "start_time": "2023-08-02T15:34:35.653343Z",
     "end_time": "2023-08-02T15:34:37.561373Z"
    }
   },
   "outputs": [
    {
     "name": "stdout",
     "output_type": "stream",
     "text": [
      "(2883240, 4)\n"
     ]
    },
    {
     "data": {
      "text/plain": "   palavra  frequencia   lemma classe_gramatical\n0       de    30777225      de               ADP\n1        a    17432236       a               ADP\n2        o    16150547       o               DET\n3        e    15007947       e             CCONJ\n4      que    12304583     que             SCONJ\n5       em     9519972      em               ADP\n6       do     9132904    de o               ADP\n7       da     8202807    de o               ADP\n8        é     6575261     ser               AUX\n9       um     6278898      um               NUM\n10     não     5898039     não               ADV\n11    para     5891736    para               ADP\n12     com     5691719     com               ADP\n13     uma     5195556      um               NUM\n14      no     5100105    em o               ADP\n15      se     4545234      se             SCONJ\n16      na     4308529    em o               ADP\n17     por     4073182     por               ADP\n18      os     3992482       o               DET\n19    como     3393166    como               ADP\n20     foi     3214620     ser               AUX\n21      as     2739630       o               DET\n22      eu     2573852      eu              PRON\n23    mais     2395679    mais               ADV\n24     dos     2342844    de o               ADP\n25    você     2298515    você              PRON\n26      ao     2067711     a o               ADP\n27     sua     1892849     seu               DET\n28     ele     1858484     ele              PRON\n29     mas     1786850     mas             CCONJ\n30     seu     1722689     seu               DET\n31    está     1699681   estar               AUX\n32     são     1624679     ser               AUX\n33      ou     1499407      ou             CCONJ\n34  também     1442068  também               ADV\n35     das     1418743    de o               ADP\n36    isso     1381898    isso              PRON\n37     ser     1378082     ser               AUX\n38       à     1344829     a o               ADP\n39      me     1157313      eu              PRON\n40     tem     1118084     ter              VERB\n41    pelo     1098537   por o               ADP\n42    pela     1090518   por o               ADP\n43     bem     1025063     bem               ADV\n44     nos      964959    em o               ADP\n45   muito      947262   muito               ADV\n46   sobre      923123   sobre               ADP\n47   entre      907481   entre               ADP\n48     ela      888102     ele              PRON\n49  quando      875399  quando               ADV",
      "text/html": "<div>\n<style scoped>\n    .dataframe tbody tr th:only-of-type {\n        vertical-align: middle;\n    }\n\n    .dataframe tbody tr th {\n        vertical-align: top;\n    }\n\n    .dataframe thead th {\n        text-align: right;\n    }\n</style>\n<table border=\"1\" class=\"dataframe\">\n  <thead>\n    <tr style=\"text-align: right;\">\n      <th></th>\n      <th>palavra</th>\n      <th>frequencia</th>\n      <th>lemma</th>\n      <th>classe_gramatical</th>\n    </tr>\n  </thead>\n  <tbody>\n    <tr>\n      <th>0</th>\n      <td>de</td>\n      <td>30777225</td>\n      <td>de</td>\n      <td>ADP</td>\n    </tr>\n    <tr>\n      <th>1</th>\n      <td>a</td>\n      <td>17432236</td>\n      <td>a</td>\n      <td>ADP</td>\n    </tr>\n    <tr>\n      <th>2</th>\n      <td>o</td>\n      <td>16150547</td>\n      <td>o</td>\n      <td>DET</td>\n    </tr>\n    <tr>\n      <th>3</th>\n      <td>e</td>\n      <td>15007947</td>\n      <td>e</td>\n      <td>CCONJ</td>\n    </tr>\n    <tr>\n      <th>4</th>\n      <td>que</td>\n      <td>12304583</td>\n      <td>que</td>\n      <td>SCONJ</td>\n    </tr>\n    <tr>\n      <th>5</th>\n      <td>em</td>\n      <td>9519972</td>\n      <td>em</td>\n      <td>ADP</td>\n    </tr>\n    <tr>\n      <th>6</th>\n      <td>do</td>\n      <td>9132904</td>\n      <td>de o</td>\n      <td>ADP</td>\n    </tr>\n    <tr>\n      <th>7</th>\n      <td>da</td>\n      <td>8202807</td>\n      <td>de o</td>\n      <td>ADP</td>\n    </tr>\n    <tr>\n      <th>8</th>\n      <td>é</td>\n      <td>6575261</td>\n      <td>ser</td>\n      <td>AUX</td>\n    </tr>\n    <tr>\n      <th>9</th>\n      <td>um</td>\n      <td>6278898</td>\n      <td>um</td>\n      <td>NUM</td>\n    </tr>\n    <tr>\n      <th>10</th>\n      <td>não</td>\n      <td>5898039</td>\n      <td>não</td>\n      <td>ADV</td>\n    </tr>\n    <tr>\n      <th>11</th>\n      <td>para</td>\n      <td>5891736</td>\n      <td>para</td>\n      <td>ADP</td>\n    </tr>\n    <tr>\n      <th>12</th>\n      <td>com</td>\n      <td>5691719</td>\n      <td>com</td>\n      <td>ADP</td>\n    </tr>\n    <tr>\n      <th>13</th>\n      <td>uma</td>\n      <td>5195556</td>\n      <td>um</td>\n      <td>NUM</td>\n    </tr>\n    <tr>\n      <th>14</th>\n      <td>no</td>\n      <td>5100105</td>\n      <td>em o</td>\n      <td>ADP</td>\n    </tr>\n    <tr>\n      <th>15</th>\n      <td>se</td>\n      <td>4545234</td>\n      <td>se</td>\n      <td>SCONJ</td>\n    </tr>\n    <tr>\n      <th>16</th>\n      <td>na</td>\n      <td>4308529</td>\n      <td>em o</td>\n      <td>ADP</td>\n    </tr>\n    <tr>\n      <th>17</th>\n      <td>por</td>\n      <td>4073182</td>\n      <td>por</td>\n      <td>ADP</td>\n    </tr>\n    <tr>\n      <th>18</th>\n      <td>os</td>\n      <td>3992482</td>\n      <td>o</td>\n      <td>DET</td>\n    </tr>\n    <tr>\n      <th>19</th>\n      <td>como</td>\n      <td>3393166</td>\n      <td>como</td>\n      <td>ADP</td>\n    </tr>\n    <tr>\n      <th>20</th>\n      <td>foi</td>\n      <td>3214620</td>\n      <td>ser</td>\n      <td>AUX</td>\n    </tr>\n    <tr>\n      <th>21</th>\n      <td>as</td>\n      <td>2739630</td>\n      <td>o</td>\n      <td>DET</td>\n    </tr>\n    <tr>\n      <th>22</th>\n      <td>eu</td>\n      <td>2573852</td>\n      <td>eu</td>\n      <td>PRON</td>\n    </tr>\n    <tr>\n      <th>23</th>\n      <td>mais</td>\n      <td>2395679</td>\n      <td>mais</td>\n      <td>ADV</td>\n    </tr>\n    <tr>\n      <th>24</th>\n      <td>dos</td>\n      <td>2342844</td>\n      <td>de o</td>\n      <td>ADP</td>\n    </tr>\n    <tr>\n      <th>25</th>\n      <td>você</td>\n      <td>2298515</td>\n      <td>você</td>\n      <td>PRON</td>\n    </tr>\n    <tr>\n      <th>26</th>\n      <td>ao</td>\n      <td>2067711</td>\n      <td>a o</td>\n      <td>ADP</td>\n    </tr>\n    <tr>\n      <th>27</th>\n      <td>sua</td>\n      <td>1892849</td>\n      <td>seu</td>\n      <td>DET</td>\n    </tr>\n    <tr>\n      <th>28</th>\n      <td>ele</td>\n      <td>1858484</td>\n      <td>ele</td>\n      <td>PRON</td>\n    </tr>\n    <tr>\n      <th>29</th>\n      <td>mas</td>\n      <td>1786850</td>\n      <td>mas</td>\n      <td>CCONJ</td>\n    </tr>\n    <tr>\n      <th>30</th>\n      <td>seu</td>\n      <td>1722689</td>\n      <td>seu</td>\n      <td>DET</td>\n    </tr>\n    <tr>\n      <th>31</th>\n      <td>está</td>\n      <td>1699681</td>\n      <td>estar</td>\n      <td>AUX</td>\n    </tr>\n    <tr>\n      <th>32</th>\n      <td>são</td>\n      <td>1624679</td>\n      <td>ser</td>\n      <td>AUX</td>\n    </tr>\n    <tr>\n      <th>33</th>\n      <td>ou</td>\n      <td>1499407</td>\n      <td>ou</td>\n      <td>CCONJ</td>\n    </tr>\n    <tr>\n      <th>34</th>\n      <td>também</td>\n      <td>1442068</td>\n      <td>também</td>\n      <td>ADV</td>\n    </tr>\n    <tr>\n      <th>35</th>\n      <td>das</td>\n      <td>1418743</td>\n      <td>de o</td>\n      <td>ADP</td>\n    </tr>\n    <tr>\n      <th>36</th>\n      <td>isso</td>\n      <td>1381898</td>\n      <td>isso</td>\n      <td>PRON</td>\n    </tr>\n    <tr>\n      <th>37</th>\n      <td>ser</td>\n      <td>1378082</td>\n      <td>ser</td>\n      <td>AUX</td>\n    </tr>\n    <tr>\n      <th>38</th>\n      <td>à</td>\n      <td>1344829</td>\n      <td>a o</td>\n      <td>ADP</td>\n    </tr>\n    <tr>\n      <th>39</th>\n      <td>me</td>\n      <td>1157313</td>\n      <td>eu</td>\n      <td>PRON</td>\n    </tr>\n    <tr>\n      <th>40</th>\n      <td>tem</td>\n      <td>1118084</td>\n      <td>ter</td>\n      <td>VERB</td>\n    </tr>\n    <tr>\n      <th>41</th>\n      <td>pelo</td>\n      <td>1098537</td>\n      <td>por o</td>\n      <td>ADP</td>\n    </tr>\n    <tr>\n      <th>42</th>\n      <td>pela</td>\n      <td>1090518</td>\n      <td>por o</td>\n      <td>ADP</td>\n    </tr>\n    <tr>\n      <th>43</th>\n      <td>bem</td>\n      <td>1025063</td>\n      <td>bem</td>\n      <td>ADV</td>\n    </tr>\n    <tr>\n      <th>44</th>\n      <td>nos</td>\n      <td>964959</td>\n      <td>em o</td>\n      <td>ADP</td>\n    </tr>\n    <tr>\n      <th>45</th>\n      <td>muito</td>\n      <td>947262</td>\n      <td>muito</td>\n      <td>ADV</td>\n    </tr>\n    <tr>\n      <th>46</th>\n      <td>sobre</td>\n      <td>923123</td>\n      <td>sobre</td>\n      <td>ADP</td>\n    </tr>\n    <tr>\n      <th>47</th>\n      <td>entre</td>\n      <td>907481</td>\n      <td>entre</td>\n      <td>ADP</td>\n    </tr>\n    <tr>\n      <th>48</th>\n      <td>ela</td>\n      <td>888102</td>\n      <td>ele</td>\n      <td>PRON</td>\n    </tr>\n    <tr>\n      <th>49</th>\n      <td>quando</td>\n      <td>875399</td>\n      <td>quando</td>\n      <td>ADV</td>\n    </tr>\n  </tbody>\n</table>\n</div>"
     },
     "execution_count": 6,
     "metadata": {},
     "output_type": "execute_result"
    }
   ],
   "source": [
    "if \"df_palavras_carolina.parquet\" not in os.listdir(\"./checkpoints/\"):\n",
    "    df_palavras = aplicar_spacy(term_frequency)\n",
    "    df_palavras.to_parquet(\"./checkpoints/df_palavras_carolina.parquet\")\n",
    "else:\n",
    "    df_palavras = pd.read_parquet(\"./checkpoints/df_palavras_carolina.parquet\")\n",
    "print(df_palavras.shape)\n",
    "df_palavras.head(50)"
   ]
  },
  {
   "cell_type": "code",
   "execution_count": 7,
   "metadata": {
    "ExecuteTime": {
     "start_time": "2023-08-02T15:34:37.559378Z",
     "end_time": "2023-08-02T16:36:56.291348Z"
    }
   },
   "outputs": [
    {
     "data": {
      "text/plain": "morph:   0%|          | 0/392086 [00:00<?, ?it/s]",
      "application/vnd.jupyter.widget-view+json": {
       "version_major": 2,
       "version_minor": 0,
       "model_id": "f02827e4b79b4095b1c1ebdfe05ffe35"
      }
     },
     "metadata": {},
     "output_type": "display_data"
    },
    {
     "name": "stderr",
     "output_type": "stream",
     "text": [
      "100%|██████████| 176405/176405 [00:00<00:00, 513504.42it/s]\n"
     ]
    },
    {
     "data": {
      "text/plain": "morphs:   0%|          | 0/176405 [00:00<?, ?it/s]",
      "application/vnd.jupyter.widget-view+json": {
       "version_major": 2,
       "version_minor": 0,
       "model_id": "065426f4a792434c98d57bed6b9bff04"
      }
     },
     "metadata": {},
     "output_type": "display_data"
    },
    {
     "name": "stderr",
     "output_type": "stream",
     "text": [
      "100%|██████████| 116247/116247 [00:00<00:00, 420803.07it/s]\n"
     ]
    },
    {
     "data": {
      "text/plain": "morphs:   0%|          | 0/116247 [00:00<?, ?it/s]",
      "application/vnd.jupyter.widget-view+json": {
       "version_major": 2,
       "version_minor": 0,
       "model_id": "295cf967ee3440869197716bd2a4bc0a"
      }
     },
     "metadata": {},
     "output_type": "display_data"
    },
    {
     "name": "stderr",
     "output_type": "stream",
     "text": [
      "100%|██████████| 82649/82649 [00:00<00:00, 579486.22it/s]\n"
     ]
    },
    {
     "data": {
      "text/plain": "morphs:   0%|          | 0/82649 [00:00<?, ?it/s]",
      "application/vnd.jupyter.widget-view+json": {
       "version_major": 2,
       "version_minor": 0,
       "model_id": "198d44f1f8804f8eb3b53d72a2ba3d81"
      }
     },
     "metadata": {},
     "output_type": "display_data"
    },
    {
     "name": "stderr",
     "output_type": "stream",
     "text": [
      "100%|██████████| 12662/12662 [00:00<00:00, 1271506.35it/s]\n"
     ]
    },
    {
     "data": {
      "text/plain": "morphs:   0%|          | 0/12662 [00:00<?, ?it/s]",
      "application/vnd.jupyter.widget-view+json": {
       "version_major": 2,
       "version_minor": 0,
       "model_id": "8a63fdedcf7b40929d7669168fbcd50c"
      }
     },
     "metadata": {},
     "output_type": "display_data"
    },
    {
     "name": "stderr",
     "output_type": "stream",
     "text": [
      "100%|██████████| 2054/2054 [00:00<00:00, 686735.78it/s]\n"
     ]
    },
    {
     "data": {
      "text/plain": "morphs:   0%|          | 0/2054 [00:00<?, ?it/s]",
      "application/vnd.jupyter.widget-view+json": {
       "version_major": 2,
       "version_minor": 0,
       "model_id": "3f9da6158ead4db099b15709de5f2aae"
      }
     },
     "metadata": {},
     "output_type": "display_data"
    },
    {
     "name": "stderr",
     "output_type": "stream",
     "text": [
      "100%|██████████| 1065/1065 [00:00<00:00, 533811.40it/s]\n"
     ]
    },
    {
     "data": {
      "text/plain": "morphs:   0%|          | 0/1065 [00:00<?, ?it/s]",
      "application/vnd.jupyter.widget-view+json": {
       "version_major": 2,
       "version_minor": 0,
       "model_id": "2c88bea6e97641608ddc34631c87ccdf"
      }
     },
     "metadata": {},
     "output_type": "display_data"
    },
    {
     "name": "stderr",
     "output_type": "stream",
     "text": [
      "100%|██████████| 486/486 [00:00<00:00, 240097.97it/s]\n"
     ]
    },
    {
     "data": {
      "text/plain": "morphs:   0%|          | 0/486 [00:00<?, ?it/s]",
      "application/vnd.jupyter.widget-view+json": {
       "version_major": 2,
       "version_minor": 0,
       "model_id": "b96b12671d1e4079b6f49225b76d900f"
      }
     },
     "metadata": {},
     "output_type": "display_data"
    },
    {
     "name": "stderr",
     "output_type": "stream",
     "text": [
      "100%|██████████| 518/518 [00:00<00:00, 534214.28it/s]\n"
     ]
    },
    {
     "data": {
      "text/plain": "morphs:   0%|          | 0/518 [00:00<?, ?it/s]",
      "application/vnd.jupyter.widget-view+json": {
       "version_major": 2,
       "version_minor": 0,
       "model_id": "e28b69b363c54b1083e1ee4f6e69e7e1"
      }
     },
     "metadata": {},
     "output_type": "display_data"
    }
   ],
   "source": [
    "df_substantivos, df_verbos, df_adjetivos, df_adverbios, df_preposicoes, df_pronomes, df_artigos, df_conjuncoes = tratar_classes_gramaticais(df_palavras[df_palavras[\"frequencia\"] > 10])"
   ]
  },
  {
   "cell_type": "code",
   "execution_count": 8,
   "outputs": [],
   "source": [
    "df_substantivos.to_parquet(\"./checkpoints/df_substantivos_carolina.parquet\")\n",
    "df_verbos.to_parquet(\"./checkpoints/df_verbos_carolina.parquet\")\n",
    "df_adjetivos.to_parquet(\"./checkpoints/df_adjetivos_carolina.parquet\")\n",
    "df_adverbios.to_parquet(\"./checkpoints/df_adverbios_carolina.parquet\")\n",
    "df_preposicoes.to_parquet(\"./checkpoints/df_preposicoes_carolina.parquet\")\n",
    "df_pronomes.to_parquet(\"./checkpoints/df_pronomes_carolina.parquet\")\n",
    "df_artigos.to_parquet(\"./checkpoints/df_artigos_carolina.parquet\")\n",
    "df_conjuncoes.to_parquet(\"./checkpoints/df_conjuncoes_carolina.parquet\")"
   ],
   "metadata": {
    "collapsed": false,
    "ExecuteTime": {
     "start_time": "2023-08-02T16:36:56.295336Z",
     "end_time": "2023-08-02T16:36:56.792698Z"
    }
   }
  }
 ],
 "metadata": {
  "kernelspec": {
   "display_name": "Python 3 (ipykernel)",
   "language": "python",
   "name": "python3"
  },
  "language_info": {
   "codemirror_mode": {
    "name": "ipython",
    "version": 3
   },
   "file_extension": ".py",
   "mimetype": "text/x-python",
   "name": "python",
   "nbconvert_exporter": "python",
   "pygments_lexer": "ipython3",
   "version": "3.10.12"
  }
 },
 "nbformat": 4,
 "nbformat_minor": 4
}
