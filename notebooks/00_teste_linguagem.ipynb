{
 "cells": [
  {
   "cell_type": "code",
   "execution_count": null,
   "id": "4ac3f0ba-7252-48c4-a50c-da4d80f3c63f",
   "metadata": {
    "ExecuteTime": {
     "start_time": "2023-07-31T23:31:35.316812Z",
     "end_time": "2023-07-31T23:31:35.334764Z"
    }
   },
   "outputs": [],
   "source": [
    "from pathlib import Path\n",
    "import os\n",
    "os.chdir(Path.cwd().parent)"
   ]
  },
  {
   "cell_type": "code",
   "execution_count": null,
   "id": "750a8955-bc1a-41d3-beb2-726972f89f08",
   "metadata": {
    "ExecuteTime": {
     "start_time": "2023-07-31T23:31:35.336759Z",
     "end_time": "2023-07-31T23:31:37.599710Z"
    }
   },
   "outputs": [],
   "source": [
    "from linguagem import Linguagem"
   ]
  },
  {
   "cell_type": "code",
   "execution_count": null,
   "id": "98844a8a-c5f5-4e6b-a766-078bcd7142ca",
   "metadata": {
    "ExecuteTime": {
     "start_time": "2023-07-31T23:31:37.604696Z",
     "end_time": "2023-07-31T23:31:37.616664Z"
    }
   },
   "outputs": [],
   "source": [
    "lingua_simples_teste_1 = (\n",
    "    Linguagem(\n",
    "        {\"v\": [2, 3, 4, 7, 9], \"c\": [13, 17, 19, 20, 23, 24, 25, 27, 35], \"e\": [14, 16, 32]},\n",
    "        {1: [\"c\", \"v\"], 2: [\"c\", \"e\", \"v\"], 3: [\"c\", \"v\", \"e\"], 4: [\"c\", \"v\", \"v\"], 5: [\"e\", \"v\"], 6: [\"v\", \"e\"], 7: [\"v\"]},\n",
    "        {0: [1, 2, 3, 4, 5, 6, 7], 1: [1, 2, 3, 4, 5], 2: [1, 2, 3, 4, 5], 3: [1, 2, 3, 4, 5], 4: [1, 2, 3, 4, 5], 5: [1, 2, 3, 4, 5], 6: [1, 2, 3, 4, 5], 7: [1, 2, 3, 4, 5]},\n",
    "    )\n",
    ")"
   ]
  },
  {
   "cell_type": "code",
   "execution_count": null,
   "id": "8954d6f3-7e39-4e63-b7b9-4dd8fc51f838",
   "metadata": {
    "ExecuteTime": {
     "start_time": "2023-07-31T23:31:37.617662Z",
     "end_time": "2023-07-31T23:31:37.662569Z"
    }
   },
   "outputs": [],
   "source": [
    "palavra_1 = lingua_simples_teste_1.gerar_palavra_aleatoria(1)\n",
    "print(palavra_1)"
   ]
  },
  {
   "cell_type": "code",
   "execution_count": null,
   "id": "6c0e7e85-6dc4-42bb-9434-f99f6b1ae53f",
   "metadata": {
    "ExecuteTime": {
     "start_time": "2023-07-31T23:31:37.633620Z",
     "end_time": "2023-07-31T23:31:37.709446Z"
    }
   },
   "outputs": [],
   "source": [
    "palavra_2 = lingua_simples_teste_1.gerar_palavra_aleatoria(2)\n",
    "print(palavra_2)"
   ]
  },
  {
   "cell_type": "code",
   "execution_count": null,
   "id": "25632f5e-4db8-4104-af03-d941f6b6b5ef",
   "metadata": {
    "ExecuteTime": {
     "start_time": "2023-07-31T23:31:37.651573Z",
     "end_time": "2023-07-31T23:31:37.709446Z"
    }
   },
   "outputs": [],
   "source": [
    "palavra_3 = lingua_simples_teste_1.gerar_palavra_aleatoria(3)\n",
    "print(palavra_3)"
   ]
  },
  {
   "cell_type": "code",
   "execution_count": null,
   "id": "9419abe2-548e-487c-b8e1-673fae0d3bf9",
   "metadata": {
    "ExecuteTime": {
     "start_time": "2023-07-31T23:31:37.666532Z",
     "end_time": "2023-07-31T23:31:37.710416Z"
    }
   },
   "outputs": [],
   "source": [
    "for palavra in [lingua_simples_teste_1.gerar_palavra_aleatoria(3) for i in range(10)]:\n",
    "    print(palavra)"
   ]
  },
  {
   "cell_type": "code",
   "execution_count": null,
   "id": "7549891d-953c-4ef3-a144-81f589ae7df2",
   "metadata": {
    "ExecuteTime": {
     "start_time": "2023-07-31T23:31:37.684483Z",
     "end_time": "2023-07-31T23:31:37.770282Z"
    }
   },
   "outputs": [],
   "source": [
    "lingua_simples_teste_2 = (\n",
    "    Linguagem(\n",
    "        {\"v\": [3, 4, 9, 11], \"c\": [13, 18, 31], \"e\": [27, 28, 29, 30, 34]},\n",
    "        {1: [\"c\", \"v\"], 2: [\"c\", \"e\", \"v\"], 3: [\"c\", \"v\", \"e\"], 4: [\"c\", \"v\", \"v\"], 5: [\"e\", \"v\"], 6: [\"v\", \"e\"], 7: [\"v\"]},\n",
    "        {0: [1, 2, 3, 4, 5, 6, 7], 1: [1, 2, 3, 4, 5], 2: [1, 2, 3, 4, 5], 3: [1, 2, 3, 4, 5], 4: [1, 2, 3, 4, 5], 5: [1, 2, 3, 4, 5], 6: [1, 2, 3, 4, 5], 7: [1, 2, 3, 4, 5]},\n",
    "    )\n",
    ")"
   ]
  },
  {
   "cell_type": "code",
   "execution_count": null,
   "id": "94f7bf20-f83e-4786-a8e4-507abb59759d",
   "metadata": {
    "ExecuteTime": {
     "start_time": "2023-07-31T23:31:37.698476Z",
     "end_time": "2023-07-31T23:31:37.780227Z"
    }
   },
   "outputs": [],
   "source": [
    "for palavra in [lingua_simples_teste_2.gerar_palavra_aleatoria(3) for i in range(10)]:\n",
    "    print(palavra)"
   ]
  },
  {
   "cell_type": "code",
   "execution_count": null,
   "id": "43ae2b0a-e51b-4dcb-ba32-d2bdb952917e",
   "metadata": {
    "ExecuteTime": {
     "start_time": "2023-07-31T23:31:37.717396Z",
     "end_time": "2023-07-31T23:31:37.780227Z"
    }
   },
   "outputs": [],
   "source": [
    "len(lingua_simples_teste_1.silabas_list)"
   ]
  },
  {
   "cell_type": "code",
   "execution_count": null,
   "id": "c49cf7bc-9ac7-45c3-a274-7ee81a073c0c",
   "metadata": {
    "ExecuteTime": {
     "start_time": "2023-07-31T23:31:37.731358Z",
     "end_time": "2023-07-31T23:31:37.780227Z"
    }
   },
   "outputs": [],
   "source": [
    "len(lingua_simples_teste_2.silabas_list)"
   ]
  },
  {
   "cell_type": "code",
   "execution_count": null,
   "id": "d088928c-ab77-4eeb-86dc-e7438911e392",
   "metadata": {
    "ExecuteTime": {
     "start_time": "2023-07-31T23:31:37.744324Z",
     "end_time": "2023-07-31T23:31:38.164200Z"
    }
   },
   "outputs": [],
   "source": [
    "palavras_2 = lingua_simples_teste_2.gerar_todas_palavras_n(2)\n",
    "print(len(palavras_2))\n",
    "for p in palavras_2:\n",
    "    print(p)"
   ]
  },
  {
   "cell_type": "code",
   "execution_count": null,
   "id": "005b38ff-ae25-47bb-9a5c-c19b60f9410c",
   "metadata": {},
   "outputs": [],
   "source": [
    "# MUITO LENTO\n",
    "# len(lingua_simples_teste_2.gerar_todas_palavras_n(3))"
   ]
  }
 ],
 "metadata": {
  "kernelspec": {
   "display_name": "Python 3 (ipykernel)",
   "language": "python",
   "name": "python3"
  },
  "language_info": {
   "codemirror_mode": {
    "name": "ipython",
    "version": 3
   },
   "file_extension": ".py",
   "mimetype": "text/x-python",
   "name": "python",
   "nbconvert_exporter": "python",
   "pygments_lexer": "ipython3",
   "version": "3.10.12"
  }
 },
 "nbformat": 4,
 "nbformat_minor": 5
}
