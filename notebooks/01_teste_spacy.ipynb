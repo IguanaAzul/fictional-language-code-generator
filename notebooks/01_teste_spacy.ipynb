{
 "cells": [
  {
   "cell_type": "code",
   "execution_count": 1,
   "id": "0aafded6-6b88-4c12-8602-0f004a8cc0e6",
   "metadata": {
    "ExecuteTime": {
     "start_time": "2023-07-31T14:56:45.678959Z",
     "end_time": "2023-07-31T14:56:46.395393Z"
    }
   },
   "outputs": [],
   "source": [
    "import spacy"
   ]
  },
  {
   "cell_type": "code",
   "execution_count": 2,
   "id": "3b377859-a6e1-4b39-85eb-1ff4e16465ec",
   "metadata": {
    "ExecuteTime": {
     "start_time": "2023-07-31T14:56:46.398365Z",
     "end_time": "2023-07-31T14:56:47.303317Z"
    }
   },
   "outputs": [],
   "source": [
    "spacy_text_analyser = spacy.load('pt_core_news_md')"
   ]
  },
  {
   "cell_type": "code",
   "execution_count": 3,
   "id": "427b35a7-b157-40d4-817b-1d1ee6a6da7d",
   "metadata": {
    "ExecuteTime": {
     "start_time": "2023-07-31T14:56:47.303317Z",
     "end_time": "2023-07-31T14:56:47.318970Z"
    }
   },
   "outputs": [],
   "source": [
    "batata = spacy_text_analyser(\"batata\")"
   ]
  },
  {
   "cell_type": "code",
   "execution_count": 4,
   "id": "3905056b-b1b0-452c-9b42-9dd360cb51ef",
   "metadata": {
    "ExecuteTime": {
     "start_time": "2023-07-31T14:56:47.318970Z",
     "end_time": "2023-07-31T14:56:47.362147Z"
    }
   },
   "outputs": [
    {
     "data": {
      "text/plain": "Gender=Fem|Number=Sing"
     },
     "execution_count": 4,
     "metadata": {},
     "output_type": "execute_result"
    }
   ],
   "source": [
    "batata[0].morph"
   ]
  },
  {
   "cell_type": "code",
   "execution_count": 5,
   "id": "a0c72003-e435-43c8-a8ed-7d673578b402",
   "metadata": {
    "ExecuteTime": {
     "start_time": "2023-07-31T14:56:47.336105Z",
     "end_time": "2023-07-31T14:56:47.380103Z"
    }
   },
   "outputs": [
    {
     "name": "stdout",
     "output_type": "stream",
     "text": [
      "batata NOUN ROOT [] []\n"
     ]
    }
   ],
   "source": [
    "print(batata[0].lemma_, batata[0].pos_, batata[0].dep_, batata[0].morph.get(\"Tense\"), batata[0].morph.get(\"Person\"))"
   ]
  },
  {
   "cell_type": "code",
   "execution_count": 6,
   "id": "5577b869-25bd-4807-baf9-fa2a768a3fb5",
   "metadata": {
    "ExecuteTime": {
     "start_time": "2023-07-31T14:56:47.352075Z",
     "end_time": "2023-07-31T14:56:47.380103Z"
    }
   },
   "outputs": [
    {
     "name": "stdout",
     "output_type": "stream",
     "text": [
      "gostar VERB ROOT ['Past'] ['1'] ['Sing']\n"
     ]
    }
   ],
   "source": [
    "gostei = spacy_text_analyser(\"gostei\")\n",
    "print(gostei[0].lemma_, gostei[0].pos_, gostei[0].dep_, gostei[0].morph.get(\"Tense\"), gostei[0].morph.get(\"Person\"), gostei[0].morph.get(\"Number\"))"
   ]
  },
  {
   "cell_type": "code",
   "execution_count": 7,
   "outputs": [
    {
     "name": "stdout",
     "output_type": "stream",
     "text": [
      "eu PRON nsubj Case=Nom|Gender=Masc|Number=Sing|Person=1|PronType=Prs\n",
      "gostar VERB ROOT Mood=Ind|Number=Sing|Person=1|Tense=Pres|VerbForm=Fin\n",
      "muito ADV advmod \n",
      "de ADP case \n",
      "batata NOUN obj Gender=Fem|Number=Sing\n",
      "assar VERB acl Gender=Fem|Number=Sing|VerbForm=Part\n"
     ]
    }
   ],
   "source": [
    "for token in spacy_text_analyser(\"eu gosto muito de batata assada\"):\n",
    "    print(token.lemma_, token.pos_, token.dep_, token.morph)"
   ],
   "metadata": {
    "collapsed": false,
    "ExecuteTime": {
     "start_time": "2023-07-31T14:56:47.376114Z",
     "end_time": "2023-07-31T14:56:47.441839Z"
    }
   }
  },
  {
   "cell_type": "code",
   "execution_count": 8,
   "outputs": [
    {
     "name": "stdout",
     "output_type": "stream",
     "text": [
      "eu PRON nsubj Case=Nom|Gender=Masc|Number=Sing|Person=1|PronType=Prs\n",
      "gostar VERB ROOT Mood=Ind|Number=Sing|Person=1|Tense=Past|VerbForm=Fin\n",
      "muito ADV advmod \n",
      "de o ADP case Definite=Def|Gender=Fem|Number=Sing|PronType=Art\n",
      "batata NOUN obj Gender=Fem|Number=Sing\n",
      "assar VERB acl Gender=Fem|Number=Sing|VerbForm=Part\n"
     ]
    }
   ],
   "source": [
    "for token in spacy_text_analyser(\"eu gostei muito da batata assada\"):\n",
    "    print(token.lemma_, token.pos_, token.dep_, token.morph)"
   ],
   "metadata": {
    "collapsed": false,
    "ExecuteTime": {
     "start_time": "2023-07-31T14:56:47.398228Z",
     "end_time": "2023-07-31T14:56:47.452980Z"
    }
   }
  },
  {
   "cell_type": "code",
   "execution_count": 9,
   "outputs": [
    {
     "name": "stdout",
     "output_type": "stream",
     "text": [
      "eu PRON ROOT Case=Nom|Gender=Masc|Number=Sing|Person=1|PronType=Prs\n"
     ]
    }
   ],
   "source": [
    "eu = spacy_text_analyser(\"eu\")\n",
    "print(eu[0].lemma_, eu[0].pos_, eu[0].dep_, eu[0].morph)"
   ],
   "metadata": {
    "collapsed": false,
    "ExecuteTime": {
     "start_time": "2023-07-31T14:57:41.794434Z",
     "end_time": "2023-07-31T14:57:41.843986Z"
    }
   }
  },
  {
   "cell_type": "code",
   "execution_count": 10,
   "outputs": [
    {
     "name": "stdout",
     "output_type": "stream",
     "text": [
      "muito ADV ROOT \n"
     ]
    }
   ],
   "source": [
    "muito = spacy_text_analyser(\"muito\")\n",
    "print(muito[0].lemma_, muito[0].pos_, muito[0].dep_, muito[0].morph)"
   ],
   "metadata": {
    "collapsed": false,
    "ExecuteTime": {
     "start_time": "2023-07-31T15:19:37.967810Z",
     "end_time": "2023-07-31T15:19:38.013740Z"
    }
   }
  }
 ],
 "metadata": {
  "kernelspec": {
   "display_name": "Python 3 (ipykernel)",
   "language": "python",
   "name": "python3"
  },
  "language_info": {
   "codemirror_mode": {
    "name": "ipython",
    "version": 3
   },
   "file_extension": ".py",
   "mimetype": "text/x-python",
   "name": "python",
   "nbconvert_exporter": "python",
   "pygments_lexer": "ipython3",
   "version": "3.10.12"
  }
 },
 "nbformat": 4,
 "nbformat_minor": 5
}
